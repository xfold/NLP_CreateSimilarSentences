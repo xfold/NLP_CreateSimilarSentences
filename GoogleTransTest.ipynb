{
 "cells": [
  {
   "cell_type": "code",
   "execution_count": 28,
   "metadata": {},
   "outputs": [],
   "source": [
    "from googletrans import Translator\n",
    "import itertools\n",
    "import random "
   ]
  },
  {
   "cell_type": "code",
   "execution_count": 31,
   "metadata": {},
   "outputs": [
    {
     "ename": "NameError",
     "evalue": "name 'self' is not defined",
     "output_type": "error",
     "traceback": [
      "\u001b[1;31m---------------------------------------------------------------------------\u001b[0m",
      "\u001b[1;31mNameError\u001b[0m                                 Traceback (most recent call last)",
      "\u001b[1;32m<ipython-input-31-8e88da333e9c>\u001b[0m in \u001b[0;36m<module>\u001b[1;34m\u001b[0m\n\u001b[0;32m      1\u001b[0m \u001b[0mswaplangs\u001b[0m \u001b[1;33m=\u001b[0m \u001b[1;33m[\u001b[0m\u001b[1;34m'it'\u001b[0m\u001b[1;33m,\u001b[0m\u001b[1;34m'es'\u001b[0m\u001b[1;33m,\u001b[0m\u001b[1;34m'hu'\u001b[0m\u001b[1;33m,\u001b[0m\u001b[1;34m'fr'\u001b[0m\u001b[1;33m,\u001b[0m\u001b[1;34m'bg'\u001b[0m\u001b[1;33m,\u001b[0m\u001b[1;34m'ca'\u001b[0m\u001b[1;33m,\u001b[0m\u001b[1;34m'af'\u001b[0m\u001b[1;33m,\u001b[0m\u001b[1;34m'ar'\u001b[0m\u001b[1;33m,\u001b[0m\u001b[1;34m'pa'\u001b[0m\u001b[1;33m,\u001b[0m\u001b[1;34m'de'\u001b[0m\u001b[1;33m,\u001b[0m\u001b[1;34m'el'\u001b[0m\u001b[1;33m]\u001b[0m\u001b[1;33m\u001b[0m\u001b[1;33m\u001b[0m\u001b[0m\n\u001b[1;32m----> 2\u001b[1;33m \u001b[0mself\u001b[0m\u001b[1;33m.\u001b[0m\u001b[0mtranslator\u001b[0m \u001b[1;33m=\u001b[0m \u001b[0mTranslator\u001b[0m\u001b[1;33m(\u001b[0m\u001b[1;33m)\u001b[0m\u001b[1;33m\u001b[0m\u001b[1;33m\u001b[0m\u001b[0m\n\u001b[0m\u001b[0;32m      3\u001b[0m \u001b[1;32mclass\u001b[0m \u001b[0mSentenceCreator\u001b[0m\u001b[1;33m:\u001b[0m\u001b[1;33m\u001b[0m\u001b[1;33m\u001b[0m\u001b[0m\n\u001b[0;32m      4\u001b[0m     \u001b[1;32mdef\u001b[0m \u001b[0mSimilarSentences\u001b[0m\u001b[1;33m(\u001b[0m\u001b[0mself\u001b[0m\u001b[1;33m,\u001b[0m \u001b[0moriginalsentence\u001b[0m\u001b[1;33m,\u001b[0m \u001b[0mseqdepth\u001b[0m \u001b[1;33m=\u001b[0m \u001b[1;36m1\u001b[0m\u001b[1;33m,\u001b[0m \u001b[0mn\u001b[0m \u001b[1;33m=\u001b[0m \u001b[1;36m10\u001b[0m\u001b[1;33m,\u001b[0m \u001b[0mseed\u001b[0m \u001b[1;33m=\u001b[0m \u001b[1;32mNone\u001b[0m\u001b[1;33m)\u001b[0m\u001b[1;33m:\u001b[0m\u001b[1;33m\u001b[0m\u001b[1;33m\u001b[0m\u001b[0m\n\u001b[0;32m      5\u001b[0m         \u001b[1;32mif\u001b[0m\u001b[1;33m(\u001b[0m\u001b[0mseed\u001b[0m \u001b[1;32mis\u001b[0m \u001b[1;32mnot\u001b[0m \u001b[1;32mNone\u001b[0m\u001b[1;33m)\u001b[0m\u001b[1;33m:\u001b[0m\u001b[1;33m\u001b[0m\u001b[1;33m\u001b[0m\u001b[0m\n",
      "\u001b[1;31mNameError\u001b[0m: name 'self' is not defined"
     ]
    }
   ],
   "source": [
    "\n",
    "class SentenceCreator:\n",
    "    def __init__(self):\n",
    "        self.swaplangs = ['it','es','hu','fr','bg','ca','af','ar','pa','de','el'] \n",
    "        self.translator = Translator()\n",
    "    \n",
    "    \n",
    "    def SimilarSentences(self, originalsentence, seqdepth = 1, n = 10, seed = None):\n",
    "        if(seed is not None):\n",
    "            random.seed(seed)\n",
    "            \n",
    "        combs = [[k] for k in self.swaplangs]\n",
    "        if(seqdepth>1):\n",
    "            combs = list(itertools.combinations(self.swaplangs, seqdepth))\n",
    "        if(n > len(combs)):\n",
    "            n = len(combs)\n",
    "\n",
    "        \n",
    "        originallan = self.translator.detect(originalsentence)\n",
    "        print('original language', originallan.lang)\n",
    "        selcombs = random.sample(combs, n)\n",
    "        tor = []\n",
    "        print(selcombs)\n",
    "        print('original snetence: ',originalsentence)\n",
    "        for combs in selcombs:\n",
    "            sentence = originalsentence\n",
    "            for c in combs:\n",
    "                print('processing', c)\n",
    "                sentence = self.translator.translate(sentence, dest=c)\n",
    "                sentence = sentence.text\n",
    "                print('\\t',sentence)\n",
    "            print('back to english', originallan.lang, ':', sentence )\n",
    "            sentence = self.translator.translate(sentence, dest=originallan.lang)\n",
    "            tor.append(sentence.text)\n",
    "        return tor\n",
    "        "
   ]
  },
  {
   "cell_type": "code",
   "execution_count": 30,
   "metadata": {},
   "outputs": [
    {
     "ename": "AttributeError",
     "evalue": "'NoneType' object has no attribute 'swaplangs'",
     "output_type": "error",
     "traceback": [
      "\u001b[1;31m---------------------------------------------------------------------------\u001b[0m",
      "\u001b[1;31mAttributeError\u001b[0m                            Traceback (most recent call last)",
      "\u001b[1;32m<ipython-input-30-2498b0e592e6>\u001b[0m in \u001b[0;36m<module>\u001b[1;34m\u001b[0m\n\u001b[1;32m----> 1\u001b[1;33m \u001b[0mSimilarSentences\u001b[0m\u001b[1;33m(\u001b[0m\u001b[1;32mNone\u001b[0m\u001b[1;33m,\u001b[0m\u001b[1;34m'hello this is amen'\u001b[0m\u001b[1;33m,\u001b[0m \u001b[0mn\u001b[0m \u001b[1;33m=\u001b[0m \u001b[1;36m5\u001b[0m\u001b[1;33m,\u001b[0m \u001b[0mseqdepth\u001b[0m\u001b[1;33m=\u001b[0m\u001b[1;36m1\u001b[0m\u001b[1;33m)\u001b[0m\u001b[1;33m\u001b[0m\u001b[1;33m\u001b[0m\u001b[0m\n\u001b[0m",
      "\u001b[1;32m<ipython-input-25-e52db46fc703>\u001b[0m in \u001b[0;36mSimilarSentences\u001b[1;34m(self, originalsentence, seqdepth, n, seed)\u001b[0m\n\u001b[0;32m      3\u001b[0m             \u001b[0mrandom\u001b[0m\u001b[1;33m.\u001b[0m\u001b[0mseed\u001b[0m\u001b[1;33m(\u001b[0m\u001b[0mseed\u001b[0m\u001b[1;33m)\u001b[0m\u001b[1;33m\u001b[0m\u001b[1;33m\u001b[0m\u001b[0m\n\u001b[0;32m      4\u001b[0m \u001b[1;33m\u001b[0m\u001b[0m\n\u001b[1;32m----> 5\u001b[1;33m         \u001b[0mcombs\u001b[0m \u001b[1;33m=\u001b[0m \u001b[1;33m[\u001b[0m\u001b[1;33m[\u001b[0m\u001b[0mk\u001b[0m\u001b[1;33m]\u001b[0m \u001b[1;32mfor\u001b[0m \u001b[0mk\u001b[0m \u001b[1;32min\u001b[0m \u001b[0mself\u001b[0m\u001b[1;33m.\u001b[0m\u001b[0mswaplangs\u001b[0m\u001b[1;33m]\u001b[0m\u001b[1;33m\u001b[0m\u001b[1;33m\u001b[0m\u001b[0m\n\u001b[0m\u001b[0;32m      6\u001b[0m         \u001b[1;32mif\u001b[0m\u001b[1;33m(\u001b[0m\u001b[0mseqdepth\u001b[0m\u001b[1;33m>\u001b[0m\u001b[1;36m1\u001b[0m\u001b[1;33m)\u001b[0m\u001b[1;33m:\u001b[0m\u001b[1;33m\u001b[0m\u001b[1;33m\u001b[0m\u001b[0m\n\u001b[0;32m      7\u001b[0m             \u001b[0mcombs\u001b[0m \u001b[1;33m=\u001b[0m \u001b[0mlist\u001b[0m\u001b[1;33m(\u001b[0m\u001b[0mitertools\u001b[0m\u001b[1;33m.\u001b[0m\u001b[0mcombinations\u001b[0m\u001b[1;33m(\u001b[0m\u001b[0mself\u001b[0m\u001b[1;33m.\u001b[0m\u001b[0mswaplangs\u001b[0m\u001b[1;33m,\u001b[0m \u001b[0mseqdepth\u001b[0m\u001b[1;33m)\u001b[0m\u001b[1;33m)\u001b[0m\u001b[1;33m\u001b[0m\u001b[1;33m\u001b[0m\u001b[0m\n",
      "\u001b[1;31mAttributeError\u001b[0m: 'NoneType' object has no attribute 'swaplangs'"
     ]
    }
   ],
   "source": [
    "SimilarSentences(None,'hello this is amen', n = 5, seqdepth=1)"
   ]
  },
  {
   "cell_type": "code",
   "execution_count": 15,
   "metadata": {},
   "outputs": [
    {
     "name": "stdout",
     "output_type": "stream",
     "text": [
      "[('it', 'es'), ('it', 'hu'), ('it', 'fr'), ('it', 'bg'), ('it', 'ca'), ('it', 'af'), ('it', 'ar'), ('it', 'pa'), ('it', 'de'), ('it', 'el'), ('es', 'hu'), ('es', 'fr'), ('es', 'bg'), ('es', 'ca'), ('es', 'af'), ('es', 'ar'), ('es', 'pa'), ('es', 'de'), ('es', 'el'), ('hu', 'fr'), ('hu', 'bg'), ('hu', 'ca'), ('hu', 'af'), ('hu', 'ar'), ('hu', 'pa'), ('hu', 'de'), ('hu', 'el'), ('fr', 'bg'), ('fr', 'ca'), ('fr', 'af'), ('fr', 'ar'), ('fr', 'pa'), ('fr', 'de'), ('fr', 'el'), ('bg', 'ca'), ('bg', 'af'), ('bg', 'ar'), ('bg', 'pa'), ('bg', 'de'), ('bg', 'el'), ('ca', 'af'), ('ca', 'ar'), ('ca', 'pa'), ('ca', 'de'), ('ca', 'el'), ('af', 'ar'), ('af', 'pa'), ('af', 'de'), ('af', 'el'), ('ar', 'pa'), ('ar', 'de'), ('ar', 'el'), ('pa', 'de'), ('pa', 'el'), ('de', 'el')]\n"
     ]
    }
   ],
   "source": [
    "from googletrans import Translator\n",
    "import itertools\n",
    "\n",
    "class SentenceCreator:\n",
    "    def __init__(self):\n",
    "        self.swaplangs = ['it','es','hu','fr','bg','ca','af','ar','pa','de','el'] \n",
    "        self.translator = Translator()\n",
    "    \n",
    "    \n",
    "    def SimilarSentences(self, sentence, seqdepth = 2, n = 10):\n",
    "        combs = list(itertools.combinations(self.swaplangs, 2))\n",
    "        print(combs)\n",
    "\n",
    "    def myfunc(abc):\n",
    "        print(\"Hello my name is \")\n",
    "\n",
    "p1 = SentenceCreator()\n",
    "p1.SimilarSentences('hello this is amen')"
   ]
  },
  {
   "cell_type": "code",
   "execution_count": 19,
   "metadata": {},
   "outputs": [],
   "source": [
    "import importlib\n"
   ]
  },
  {
   "cell_type": "code",
   "execution_count": 23,
   "metadata": {},
   "outputs": [
    {
     "data": {
      "text/plain": [
       "<module 'NLPSentenceCreator' from 'D:\\\\Projects\\\\NLP_HandlingImbalancedData\\\\NLP_HandlingImbalancedData\\\\NLPSentenceCreator.py'>"
      ]
     },
     "execution_count": 23,
     "metadata": {},
     "output_type": "execute_result"
    }
   ],
   "source": [
    "import NLPSentenceCreator as nlps\n",
    "importlib.reload(nlps)"
   ]
  },
  {
   "cell_type": "code",
   "execution_count": 24,
   "metadata": {},
   "outputs": [
    {
     "ename": "AttributeError",
     "evalue": "'NoneType' object has no attribute 'group'",
     "output_type": "error",
     "traceback": [
      "\u001b[1;31m---------------------------------------------------------------------------\u001b[0m",
      "\u001b[1;31mAttributeError\u001b[0m                            Traceback (most recent call last)",
      "\u001b[1;32m<ipython-input-24-157645f6be5d>\u001b[0m in \u001b[0;36m<module>\u001b[1;34m\u001b[0m\n\u001b[0;32m      1\u001b[0m \u001b[0msc\u001b[0m \u001b[1;33m=\u001b[0m \u001b[0mnlps\u001b[0m\u001b[1;33m.\u001b[0m\u001b[0mSentenceCreator\u001b[0m\u001b[1;33m(\u001b[0m\u001b[1;33m)\u001b[0m\u001b[1;33m\u001b[0m\u001b[1;33m\u001b[0m\u001b[0m\n\u001b[1;32m----> 2\u001b[1;33m \u001b[0msc\u001b[0m\u001b[1;33m.\u001b[0m\u001b[0mSimilarSentences\u001b[0m\u001b[1;33m(\u001b[0m\u001b[1;34m'hello this is amen'\u001b[0m\u001b[1;33m,\u001b[0m \u001b[0mn\u001b[0m \u001b[1;33m=\u001b[0m \u001b[1;36m5\u001b[0m\u001b[1;33m,\u001b[0m \u001b[0mseqdepth\u001b[0m\u001b[1;33m=\u001b[0m\u001b[1;36m1\u001b[0m\u001b[1;33m)\u001b[0m\u001b[1;33m\u001b[0m\u001b[1;33m\u001b[0m\u001b[0m\n\u001b[0m",
      "\u001b[1;32mD:\\Projects\\NLP_HandlingImbalancedData\\NLP_HandlingImbalancedData\\NLPSentenceCreator.py\u001b[0m in \u001b[0;36mSimilarSentences\u001b[1;34m(self, originalsentence, seqdepth, n, seed)\u001b[0m\n\u001b[0;32m     22\u001b[0m \u001b[1;33m\u001b[0m\u001b[0m\n\u001b[0;32m     23\u001b[0m \u001b[1;33m\u001b[0m\u001b[0m\n\u001b[1;32m---> 24\u001b[1;33m         \u001b[0moriginallan\u001b[0m \u001b[1;33m=\u001b[0m \u001b[0mself\u001b[0m\u001b[1;33m.\u001b[0m\u001b[0mtranslator\u001b[0m\u001b[1;33m.\u001b[0m\u001b[0mdetect\u001b[0m\u001b[1;33m(\u001b[0m\u001b[0moriginalsentence\u001b[0m\u001b[1;33m)\u001b[0m\u001b[1;33m\u001b[0m\u001b[1;33m\u001b[0m\u001b[0m\n\u001b[0m\u001b[0;32m     25\u001b[0m         \u001b[0mprint\u001b[0m\u001b[1;33m(\u001b[0m\u001b[1;34m'original language'\u001b[0m\u001b[1;33m,\u001b[0m \u001b[0moriginallan\u001b[0m\u001b[1;33m.\u001b[0m\u001b[0mlang\u001b[0m\u001b[1;33m)\u001b[0m\u001b[1;33m\u001b[0m\u001b[1;33m\u001b[0m\u001b[0m\n\u001b[0;32m     26\u001b[0m         \u001b[0mselcombs\u001b[0m \u001b[1;33m=\u001b[0m \u001b[0mrandom\u001b[0m\u001b[1;33m.\u001b[0m\u001b[0msample\u001b[0m\u001b[1;33m(\u001b[0m\u001b[0mcombs\u001b[0m\u001b[1;33m,\u001b[0m \u001b[0mn\u001b[0m\u001b[1;33m)\u001b[0m\u001b[1;33m\u001b[0m\u001b[1;33m\u001b[0m\u001b[0m\n",
      "\u001b[1;32m~\\AppData\\Roaming\\Python\\Python37\\site-packages\\googletrans\\client.py\u001b[0m in \u001b[0;36mdetect\u001b[1;34m(self, text, **kwargs)\u001b[0m\n\u001b[0;32m    253\u001b[0m             \u001b[1;32mreturn\u001b[0m \u001b[0mresult\u001b[0m\u001b[1;33m\u001b[0m\u001b[1;33m\u001b[0m\u001b[0m\n\u001b[0;32m    254\u001b[0m \u001b[1;33m\u001b[0m\u001b[0m\n\u001b[1;32m--> 255\u001b[1;33m         \u001b[0mdata\u001b[0m \u001b[1;33m=\u001b[0m \u001b[0mself\u001b[0m\u001b[1;33m.\u001b[0m\u001b[0m_translate\u001b[0m\u001b[1;33m(\u001b[0m\u001b[0mtext\u001b[0m\u001b[1;33m,\u001b[0m \u001b[1;34m'en'\u001b[0m\u001b[1;33m,\u001b[0m \u001b[1;34m'auto'\u001b[0m\u001b[1;33m,\u001b[0m \u001b[0mkwargs\u001b[0m\u001b[1;33m)\u001b[0m\u001b[1;33m\u001b[0m\u001b[1;33m\u001b[0m\u001b[0m\n\u001b[0m\u001b[0;32m    256\u001b[0m \u001b[1;33m\u001b[0m\u001b[0m\n\u001b[0;32m    257\u001b[0m         \u001b[1;31m# actual source language that will be recognized by Google Translator when the\u001b[0m\u001b[1;33m\u001b[0m\u001b[1;33m\u001b[0m\u001b[1;33m\u001b[0m\u001b[0m\n",
      "\u001b[1;32m~\\AppData\\Roaming\\Python\\Python37\\site-packages\\googletrans\\client.py\u001b[0m in \u001b[0;36m_translate\u001b[1;34m(self, text, dest, src, override)\u001b[0m\n\u001b[0;32m     76\u001b[0m \u001b[1;33m\u001b[0m\u001b[0m\n\u001b[0;32m     77\u001b[0m     \u001b[1;32mdef\u001b[0m \u001b[0m_translate\u001b[0m\u001b[1;33m(\u001b[0m\u001b[0mself\u001b[0m\u001b[1;33m,\u001b[0m \u001b[0mtext\u001b[0m\u001b[1;33m,\u001b[0m \u001b[0mdest\u001b[0m\u001b[1;33m,\u001b[0m \u001b[0msrc\u001b[0m\u001b[1;33m,\u001b[0m \u001b[0moverride\u001b[0m\u001b[1;33m)\u001b[0m\u001b[1;33m:\u001b[0m\u001b[1;33m\u001b[0m\u001b[1;33m\u001b[0m\u001b[0m\n\u001b[1;32m---> 78\u001b[1;33m         \u001b[0mtoken\u001b[0m \u001b[1;33m=\u001b[0m \u001b[0mself\u001b[0m\u001b[1;33m.\u001b[0m\u001b[0mtoken_acquirer\u001b[0m\u001b[1;33m.\u001b[0m\u001b[0mdo\u001b[0m\u001b[1;33m(\u001b[0m\u001b[0mtext\u001b[0m\u001b[1;33m)\u001b[0m\u001b[1;33m\u001b[0m\u001b[1;33m\u001b[0m\u001b[0m\n\u001b[0m\u001b[0;32m     79\u001b[0m         params = utils.build_params(query=text, src=src, dest=dest,\n\u001b[0;32m     80\u001b[0m                                     token=token, override=override)\n",
      "\u001b[1;32m~\\AppData\\Roaming\\Python\\Python37\\site-packages\\googletrans\\gtoken.py\u001b[0m in \u001b[0;36mdo\u001b[1;34m(self, text)\u001b[0m\n\u001b[0;32m    192\u001b[0m \u001b[1;33m\u001b[0m\u001b[0m\n\u001b[0;32m    193\u001b[0m     \u001b[1;32mdef\u001b[0m \u001b[0mdo\u001b[0m\u001b[1;33m(\u001b[0m\u001b[0mself\u001b[0m\u001b[1;33m,\u001b[0m \u001b[0mtext\u001b[0m\u001b[1;33m)\u001b[0m\u001b[1;33m:\u001b[0m\u001b[1;33m\u001b[0m\u001b[1;33m\u001b[0m\u001b[0m\n\u001b[1;32m--> 194\u001b[1;33m         \u001b[0mself\u001b[0m\u001b[1;33m.\u001b[0m\u001b[0m_update\u001b[0m\u001b[1;33m(\u001b[0m\u001b[1;33m)\u001b[0m\u001b[1;33m\u001b[0m\u001b[1;33m\u001b[0m\u001b[0m\n\u001b[0m\u001b[0;32m    195\u001b[0m         \u001b[0mtk\u001b[0m \u001b[1;33m=\u001b[0m \u001b[0mself\u001b[0m\u001b[1;33m.\u001b[0m\u001b[0macquire\u001b[0m\u001b[1;33m(\u001b[0m\u001b[0mtext\u001b[0m\u001b[1;33m)\u001b[0m\u001b[1;33m\u001b[0m\u001b[1;33m\u001b[0m\u001b[0m\n\u001b[0;32m    196\u001b[0m         \u001b[1;32mreturn\u001b[0m \u001b[0mtk\u001b[0m\u001b[1;33m\u001b[0m\u001b[1;33m\u001b[0m\u001b[0m\n",
      "\u001b[1;32m~\\AppData\\Roaming\\Python\\Python37\\site-packages\\googletrans\\gtoken.py\u001b[0m in \u001b[0;36m_update\u001b[1;34m(self)\u001b[0m\n\u001b[0;32m     60\u001b[0m \u001b[1;33m\u001b[0m\u001b[0m\n\u001b[0;32m     61\u001b[0m         \u001b[1;31m# this will be the same as python code after stripping out a reserved word 'var'\u001b[0m\u001b[1;33m\u001b[0m\u001b[1;33m\u001b[0m\u001b[1;33m\u001b[0m\u001b[0m\n\u001b[1;32m---> 62\u001b[1;33m         \u001b[0mcode\u001b[0m \u001b[1;33m=\u001b[0m \u001b[0mself\u001b[0m\u001b[1;33m.\u001b[0m\u001b[0mRE_TKK\u001b[0m\u001b[1;33m.\u001b[0m\u001b[0msearch\u001b[0m\u001b[1;33m(\u001b[0m\u001b[0mr\u001b[0m\u001b[1;33m.\u001b[0m\u001b[0mtext\u001b[0m\u001b[1;33m)\u001b[0m\u001b[1;33m.\u001b[0m\u001b[0mgroup\u001b[0m\u001b[1;33m(\u001b[0m\u001b[1;36m1\u001b[0m\u001b[1;33m)\u001b[0m\u001b[1;33m.\u001b[0m\u001b[0mreplace\u001b[0m\u001b[1;33m(\u001b[0m\u001b[1;34m'var '\u001b[0m\u001b[1;33m,\u001b[0m \u001b[1;34m''\u001b[0m\u001b[1;33m)\u001b[0m\u001b[1;33m\u001b[0m\u001b[1;33m\u001b[0m\u001b[0m\n\u001b[0m\u001b[0;32m     63\u001b[0m         \u001b[1;31m# unescape special ascii characters such like a \\x3d(=)\u001b[0m\u001b[1;33m\u001b[0m\u001b[1;33m\u001b[0m\u001b[1;33m\u001b[0m\u001b[0m\n\u001b[0;32m     64\u001b[0m         \u001b[0mcode\u001b[0m \u001b[1;33m=\u001b[0m \u001b[0mcode\u001b[0m\u001b[1;33m.\u001b[0m\u001b[0mencode\u001b[0m\u001b[1;33m(\u001b[0m\u001b[1;33m)\u001b[0m\u001b[1;33m.\u001b[0m\u001b[0mdecode\u001b[0m\u001b[1;33m(\u001b[0m\u001b[1;34m'unicode-escape'\u001b[0m\u001b[1;33m)\u001b[0m\u001b[1;33m\u001b[0m\u001b[1;33m\u001b[0m\u001b[0m\n",
      "\u001b[1;31mAttributeError\u001b[0m: 'NoneType' object has no attribute 'group'"
     ]
    }
   ],
   "source": [
    "sc = nlps.SentenceCreator()\n",
    "sc.SimilarSentences('hello this is amen', n = 5, seqdepth=1)"
   ]
  },
  {
   "cell_type": "code",
   "execution_count": 24,
   "metadata": {},
   "outputs": [
    {
     "name": "stdout",
     "output_type": "stream",
     "text": [
      "Hello my name is AAAAAasassaassaA\n"
     ]
    }
   ],
   "source": [
    "sc.myfunc()"
   ]
  },
  {
   "cell_type": "code",
   "execution_count": 9,
   "metadata": {},
   "outputs": [
    {
     "ename": "AttributeError",
     "evalue": "module 'SentenceCreator' has no attribute 'SimilarSentences'",
     "output_type": "error",
     "traceback": [
      "\u001b[1;31m---------------------------------------------------------------------------\u001b[0m",
      "\u001b[1;31mAttributeError\u001b[0m                            Traceback (most recent call last)",
      "\u001b[1;32m<ipython-input-9-f046c778083b>\u001b[0m in \u001b[0;36m<module>\u001b[1;34m\u001b[0m\n\u001b[1;32m----> 1\u001b[1;33m \u001b[0msc\u001b[0m\u001b[1;33m.\u001b[0m\u001b[0mSimilarSentences\u001b[0m\u001b[1;33m(\u001b[0m\u001b[1;34m\"Warning about using Windows storage space\"\u001b[0m\u001b[1;33m)\u001b[0m\u001b[1;33m\u001b[0m\u001b[1;33m\u001b[0m\u001b[0m\n\u001b[0m",
      "\u001b[1;31mAttributeError\u001b[0m: module 'SentenceCreator' has no attribute 'SimilarSentences'"
     ]
    }
   ],
   "source": [
    "sc.SimilarSentences(\"Warning about using Windows storage space\")"
   ]
  },
  {
   "cell_type": "code",
   "execution_count": 13,
   "metadata": {},
   "outputs": [],
   "source": [
    "from googletrans import Translator\n",
    "translator = Translator()\n",
    "\n",
    "def Spanish_translation(x):\n",
    "    print(x)    \n",
    "    spanish_translation = translator.translate(x, dest='es')    \n",
    "    return spanish_translation.text\n",
    "\n",
    "def German_translation(x):\n",
    "    print(x)    \n",
    "    german_translation = translator.translate(x, dest='de')    \n",
    "    return german_translation.text\n",
    "\n",
    "def English_translation(x):\n",
    "    print(x)    \n",
    "    english_translation = translator.translate(x, dest='en')    \n",
    "    return english_translation.text"
   ]
  },
  {
   "cell_type": "code",
   "execution_count": 14,
   "metadata": {},
   "outputs": [
    {
     "name": "stdout",
     "output_type": "stream",
     "text": [
      "warning for using windows disk space\n",
      "Warnung zur Verwendung von Windows-Speicherplatz\n"
     ]
    },
    {
     "data": {
      "text/plain": [
       "'Warning about using Windows storage space'"
      ]
     },
     "execution_count": 14,
     "metadata": {},
     "output_type": "execute_result"
    }
   ],
   "source": [
    "\n",
    "x = German_translation(\"warning for using windows disk space\")\n",
    "English_translation(x)"
   ]
  },
  {
   "cell_type": "code",
   "execution_count": 13,
   "metadata": {},
   "outputs": [
    {
     "name": "stdout",
     "output_type": "stream",
     "text": [
      "Warning about using Windows storage space\n",
      "Advertencia sobre el uso del espacio de almacenamiento de Windows\n"
     ]
    },
    {
     "data": {
      "text/plain": [
       "'Windows storage space usage warning'"
      ]
     },
     "execution_count": 13,
     "metadata": {},
     "output_type": "execute_result"
    }
   ],
   "source": [
    "x = Spanish_translation(\"Warning about using Windows storage space\")\n",
    "English_translation(x)"
   ]
  },
  {
   "cell_type": "code",
   "execution_count": 22,
   "metadata": {},
   "outputs": [
    {
     "name": "stdout",
     "output_type": "stream",
     "text": [
      "warning for using windows disk space\n",
      "advertencia por usar espacio en disco de Windows\n"
     ]
    },
    {
     "ename": "AttributeError",
     "evalue": "'str' object has no attribute 'text'",
     "output_type": "error",
     "traceback": [
      "\u001b[1;31m---------------------------------------------------------------------------\u001b[0m",
      "\u001b[1;31mAttributeError\u001b[0m                            Traceback (most recent call last)",
      "\u001b[1;32m<ipython-input-22-1b5ec884943e>\u001b[0m in \u001b[0;36m<module>\u001b[1;34m\u001b[0m\n\u001b[0;32m      1\u001b[0m \u001b[0mx\u001b[0m \u001b[1;33m=\u001b[0m \u001b[0mSpanish_translation\u001b[0m\u001b[1;33m(\u001b[0m\u001b[1;34m\"warning for using windows disk space\"\u001b[0m\u001b[1;33m)\u001b[0m\u001b[1;33m\u001b[0m\u001b[1;33m\u001b[0m\u001b[0m\n\u001b[1;32m----> 2\u001b[1;33m \u001b[0mEnglish_translation\u001b[0m\u001b[1;33m(\u001b[0m\u001b[0mx\u001b[0m\u001b[1;33m)\u001b[0m\u001b[1;33m.\u001b[0m\u001b[0mtext\u001b[0m\u001b[1;33m\u001b[0m\u001b[1;33m\u001b[0m\u001b[0m\n\u001b[0m",
      "\u001b[1;31mAttributeError\u001b[0m: 'str' object has no attribute 'text'"
     ]
    }
   ],
   "source": [
    "x = Spanish_translation(\"warning for using windows disk space\")\n",
    "English_translation(x)"
   ]
  },
  {
   "cell_type": "code",
   "execution_count": 27,
   "metadata": {},
   "outputs": [
    {
     "data": {
      "text/plain": [
       "\"avertissement pour l'utilisation de l'espace disque Windows\""
      ]
     },
     "execution_count": 27,
     "metadata": {},
     "output_type": "execute_result"
    }
   ],
   "source": [
    "translator.translate(\"warning for using windows disk space\", dest='fr').text    "
   ]
  },
  {
   "cell_type": "code",
   "execution_count": 20,
   "metadata": {},
   "outputs": [],
   "source": [
    "SPECIAL_CASES = {\n",
    "    'ee': 'et',\n",
    "}\n",
    "\n",
    "LANGUAGES = {\n",
    "    'af': 'afrikaans',\n",
    "    'sq': 'albanian',\n",
    "    'am': 'amharic',\n",
    "    'ar': 'arabic',\n",
    "    'hy': 'armenian',\n",
    "    'az': 'azerbaijani',\n",
    "    'eu': 'basque',\n",
    "    'be': 'belarusian',\n",
    "    'bn': 'bengali',\n",
    "    'bs': 'bosnian',\n",
    "    'bg': 'bulgarian',\n",
    "    'ca': 'catalan',\n",
    "    'ceb': 'cebuano',\n",
    "    'ny': 'chichewa',\n",
    "    'zh-cn': 'chinese (simplified)',\n",
    "    'zh-tw': 'chinese (traditional)',\n",
    "    'co': 'corsican',\n",
    "    'hr': 'croatian',\n",
    "    'cs': 'czech',\n",
    "    'da': 'danish',\n",
    "    'nl': 'dutch',\n",
    "    'en': 'english',\n",
    "    'eo': 'esperanto',\n",
    "    'et': 'estonian',\n",
    "    'tl': 'filipino',\n",
    "    'fi': 'finnish',\n",
    "    'fr': 'french',\n",
    "    'fy': 'frisian',\n",
    "    'gl': 'galician',\n",
    "    'ka': 'georgian',\n",
    "    'de': 'german',\n",
    "    'el': 'greek',\n",
    "    'gu': 'gujarati',\n",
    "    'ht': 'haitian creole',\n",
    "    'ha': 'hausa',\n",
    "    'haw': 'hawaiian',\n",
    "    'iw': 'hebrew',\n",
    "    'he': 'hebrew',\n",
    "    'hi': 'hindi',\n",
    "    'hmn': 'hmong',\n",
    "    'hu': 'hungarian',\n",
    "    'is': 'icelandic',\n",
    "    'ig': 'igbo',\n",
    "    'id': 'indonesian',\n",
    "    'ga': 'irish',\n",
    "    'it': 'italian',\n",
    "    'ja': 'japanese',\n",
    "    'jw': 'javanese',\n",
    "    'kn': 'kannada',\n",
    "    'kk': 'kazakh',\n",
    "    'km': 'khmer',\n",
    "    'ko': 'korean',\n",
    "    'ku': 'kurdish (kurmanji)',\n",
    "    'ky': 'kyrgyz',\n",
    "    'lo': 'lao',\n",
    "    'la': 'latin',\n",
    "    'lv': 'latvian',\n",
    "    'lt': 'lithuanian',\n",
    "    'lb': 'luxembourgish',\n",
    "    'mk': 'macedonian',\n",
    "    'mg': 'malagasy',\n",
    "    'ms': 'malay',\n",
    "    'ml': 'malayalam',\n",
    "    'mt': 'maltese',\n",
    "    'mi': 'maori',\n",
    "    'mr': 'marathi',\n",
    "    'mn': 'mongolian',\n",
    "    'my': 'myanmar (burmese)',\n",
    "    'ne': 'nepali',\n",
    "    'no': 'norwegian',\n",
    "    'or': 'odia',\n",
    "    'ps': 'pashto',\n",
    "    'fa': 'persian',\n",
    "    'pl': 'polish',\n",
    "    'pt': 'portuguese',\n",
    "    'pa': 'punjabi',\n",
    "    'ro': 'romanian',\n",
    "    'ru': 'russian',\n",
    "    'sm': 'samoan',\n",
    "    'gd': 'scots gaelic',\n",
    "    'sr': 'serbian',\n",
    "    'st': 'sesotho',\n",
    "    'sn': 'shona',\n",
    "    'sd': 'sindhi',\n",
    "    'si': 'sinhala',\n",
    "    'sk': 'slovak',\n",
    "    'sl': 'slovenian',\n",
    "    'so': 'somali',\n",
    "    'es': 'spanish',\n",
    "    'su': 'sundanese',\n",
    "    'sw': 'swahili',\n",
    "    'sv': 'swedish',\n",
    "    'tg': 'tajik',\n",
    "    'ta': 'tamil',\n",
    "    'te': 'telugu',\n",
    "    'th': 'thai',\n",
    "    'tr': 'turkish',\n",
    "    'uk': 'ukrainian',\n",
    "    'ur': 'urdu',\n",
    "    'ug': 'uyghur',\n",
    "    'uz': 'uzbek',\n",
    "    'vi': 'vietnamese',\n",
    "    'cy': 'welsh',\n",
    "    'xh': 'xhosa',\n",
    "    'yi': 'yiddish',\n",
    "    'yo': 'yoruba',\n",
    "    'zu': 'zulu'}"
   ]
  },
  {
   "cell_type": "code",
   "execution_count": null,
   "metadata": {},
   "outputs": [],
   "source": []
  }
 ],
 "metadata": {
  "kernelspec": {
   "display_name": "Python 3",
   "language": "python",
   "name": "python3"
  },
  "language_info": {
   "codemirror_mode": {
    "name": "ipython",
    "version": 3
   },
   "file_extension": ".py",
   "mimetype": "text/x-python",
   "name": "python",
   "nbconvert_exporter": "python",
   "pygments_lexer": "ipython3",
   "version": "3.7.9"
  }
 },
 "nbformat": 4,
 "nbformat_minor": 2
}
